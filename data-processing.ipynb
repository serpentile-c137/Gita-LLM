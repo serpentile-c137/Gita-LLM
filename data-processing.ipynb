{
 "cells": [
  {
   "cell_type": "code",
   "execution_count": 7,
   "id": "693e2123",
   "metadata": {},
   "outputs": [],
   "source": [
    "import fitz\n",
    "import json"
   ]
  },
  {
   "cell_type": "code",
   "execution_count": 10,
   "id": "db88c218",
   "metadata": {},
   "outputs": [],
   "source": [
    "pdf_path = \"data/Bhagavad-gita.pdf\"\n",
    "doc = fitz.open(pdf_path)\n",
    "\n",
    "# Extract text from page 30 onwards (index starts at 0)\n",
    "start_page = 0\n",
    "text_data = \"\"\n",
    "\n",
    "for page_num in range(start_page, len(doc)):\n",
    "    page = doc.load_page(page_num)\n",
    "    text_data += page.get_text()\n",
    "\n",
    "# Optional: Save to a text file\n",
    "with open(\"gita_text.txt\", \"w\", encoding=\"utf-8\") as f:\n",
    "    f.write(text_data)"
   ]
  },
  {
   "cell_type": "code",
   "execution_count": 11,
   "id": "e2ac3961",
   "metadata": {},
   "outputs": [
    {
     "data": {
      "text/plain": [
       "1536303"
      ]
     },
     "execution_count": 11,
     "metadata": {},
     "output_type": "execute_result"
    }
   ],
   "source": [
    "len(text_data)"
   ]
  },
  {
   "cell_type": "code",
   "execution_count": 12,
   "id": "2de89906",
   "metadata": {},
   "outputs": [],
   "source": [
    "# Split text into paragraphs\n",
    "paragraphs = text_data.split(\"\\n\\n\")\n",
    "\n",
    "dataset = []\n",
    "for i, para in enumerate(paragraphs):\n",
    "    if para.strip():\n",
    "        dataset.append({\"prompt\": f\"Context:\\n{para}\\n\\n### Response:\", \"completion\": \" <insert expected output or leave blank>\"})\n",
    "\n",
    "# Save as JSONL\n",
    "with open(\"gita_dataset.jsonl\", \"w\", encoding=\"utf-8\") as f:\n",
    "    for item in dataset:\n",
    "        f.write(json.dumps(item, ensure_ascii=False) + \"\\n\")\n"
   ]
  },
  {
   "cell_type": "code",
   "execution_count": 13,
   "id": "4da586d6",
   "metadata": {},
   "outputs": [
    {
     "name": "stdout",
     "output_type": "stream",
     "text": [
      "Dataset saved to gita_dataset.jsonl with 622 verse entries.\n"
     ]
    }
   ],
   "source": [
    "import re\n",
    "import json\n",
    "\n",
    "def parse_gita_text(file_path):\n",
    "    dataset = []\n",
    "    current_chapter = None\n",
    "    current_verse = None\n",
    "    buffer = []\n",
    "\n",
    "    with open(file_path, 'r', encoding='utf-8') as f:\n",
    "        for line in f:\n",
    "            stripped = line.strip()\n",
    "\n",
    "            # Start new chapter\n",
    "            chapter_match = re.match(r'^Chapter\\s+(\\d+)', stripped, re.IGNORECASE)\n",
    "            if chapter_match:\n",
    "                if buffer and current_chapter is not None and current_verse is not None:\n",
    "                    dataset.append({\n",
    "                        \"chapter\": current_chapter,\n",
    "                        \"verse\": current_verse,\n",
    "                        \"text\": \" \".join(buffer).strip()\n",
    "                    })\n",
    "                current_chapter = chapter_match.group(1)\n",
    "                current_verse = None\n",
    "                buffer = []\n",
    "                continue\n",
    "\n",
    "            # Start new verse\n",
    "            verse_match = re.match(r'^TEXT\\s+(\\d+)', stripped)\n",
    "            if verse_match:\n",
    "                if buffer and current_chapter is not None and current_verse is not None:\n",
    "                    dataset.append({\n",
    "                        \"chapter\": current_chapter,\n",
    "                        \"verse\": current_verse,\n",
    "                        \"text\": \" \".join(buffer).strip()\n",
    "                    })\n",
    "                current_verse = verse_match.group(1)\n",
    "                buffer = []\n",
    "                continue\n",
    "\n",
    "            # Accumulate verse content\n",
    "            if current_chapter and current_verse:\n",
    "                buffer.append(stripped)\n",
    "\n",
    "    # Add final verse\n",
    "    if buffer and current_chapter is not None and current_verse is not None:\n",
    "        dataset.append({\n",
    "            \"chapter\": current_chapter,\n",
    "            \"verse\": current_verse,\n",
    "            \"text\": \" \".join(buffer).strip()\n",
    "        })\n",
    "\n",
    "    return dataset\n",
    "\n",
    "# Input and output\n",
    "input_path = 'gita_text.txt'\n",
    "output_path = 'gita_dataset.jsonl'\n",
    "\n",
    "# Parse and write to JSONL\n",
    "data = parse_gita_text(input_path)\n",
    "with open(output_path, 'w', encoding='utf-8') as out_file:\n",
    "    for item in data:\n",
    "        out_file.write(json.dumps(item, ensure_ascii=False) + '\\n')\n",
    "\n",
    "print(f\"Dataset saved to {output_path} with {len(data)} verse entries.\")\n"
   ]
  },
  {
   "cell_type": "code",
   "execution_count": 6,
   "id": "01b6f3de",
   "metadata": {},
   "outputs": [
    {
     "name": "stdout",
     "output_type": "stream",
     "text": [
      "Loading dataset...\n"
     ]
    },
    {
     "name": "stderr",
     "output_type": "stream",
     "text": [
      "Generating train split: 622 examples [00:00, 96179.06 examples/s]\n"
     ]
    },
    {
     "name": "stdout",
     "output_type": "stream",
     "text": [
      "Creating repo: serpentilec137/gita-verse-dataset\n"
     ]
    },
    {
     "name": "stderr",
     "output_type": "stream",
     "text": [
      "Creating parquet from Arrow format: 100%|██████████| 1/1 [00:00<00:00, 131.89ba/s]\n",
      "Uploading the dataset shards: 100%|██████████| 1/1 [00:03<00:00,  3.07s/it]\n"
     ]
    },
    {
     "name": "stdout",
     "output_type": "stream",
     "text": [
      "✅ Dataset pushed to: https://huggingface.co/datasets/serpentilec137/gita-verse-dataset\n"
     ]
    }
   ],
   "source": [
    "from datasets import load_dataset\n",
    "from huggingface_hub import HfApi\n",
    "from pathlib import Path\n",
    "\n",
    "# Config\n",
    "dataset_path = \"gita_dataset.jsonl\"\n",
    "repo_name = \"gita-verse-dataset\"  # Customize this\n",
    "hf_api = HfApi()\n",
    "username = hf_api.whoami()[\"name\"]\n",
    "repo_id = f\"{username}/{repo_name}\"\n",
    "\n",
    "# Step 1: Load dataset\n",
    "print(\"Loading dataset...\")\n",
    "dataset = load_dataset(\"json\", data_files=dataset_path, split=\"train\")\n",
    "\n",
    "# Step 2: Push to Hub\n",
    "print(f\"Creating repo: {repo_id}\")\n",
    "dataset.push_to_hub(repo_id)\n",
    "print(f\"✅ Dataset pushed to: https://huggingface.co/datasets/{repo_id}\")\n"
   ]
  },
  {
   "cell_type": "code",
   "execution_count": 4,
   "id": "4f4c3121",
   "metadata": {},
   "outputs": [
    {
     "name": "stdout",
     "output_type": "stream",
     "text": [
      "Token loaded: True\n"
     ]
    }
   ],
   "source": [
    "from dotenv import load_dotenv\n",
    "import os\n",
    "\n",
    "load_dotenv()\n",
    "hf_token = os.getenv(\"HF_TOKEN\")\n",
    "print(\"Token loaded:\", bool(hf_token))"
   ]
  },
  {
   "cell_type": "code",
   "execution_count": 10,
   "id": "12c41ff7",
   "metadata": {},
   "outputs": [
    {
     "name": "stdout",
     "output_type": "stream",
     "text": [
      "{'chapter': '1', 'verse': '1', 'text': 'dhrtarastra uvaca dharma-ksetre kuru-ksetre samaveta yuyutsavah mamakah pandavas caiva kim akurvata sanjaya SYNONYMS dhrtarastrah--King Dhrtarastra; uvaca--said; dharma-ksetre--in the place of pilgrimage; kuru-ksetre--in the place named Kuruksetra; samavetah--assembled; yuyutsavah--desiring to fight; mamakah--my party (sons); pandavah--the sons of Pandu; ca--and; eva--certainly; kim-- what; akurvata--did they do; sanjaya--O Sanjaya. TRANSLATION Dhrtarastra said: O Sanjaya, after assembling in the place of pilgrimage at Kuruksetra, what did my sons and the sons of Pandu do, being desirous to fight? PURPORT Bhagavad-gita is the widely read theistic science summarized in the Gita-mahatmya (Glorification of the Gita). There it says that one should read Bhagavad-gita very scrutinizingly with the help of a person who is a devotee of Sri Krsna and try to understand it without personally motivated interpretations. The example of clear understanding is there in the Bhagavad-gita itself, in the way the teaching is understood by Arjuna, who heard the Gita directly from the Lord. If someone is fortunate enough to understand Bhagavad-gita in that line of disciplic succession, without motivated interpretation, then he surpasses all studies of Vedic wisdom, and all scriptures of the world. One will find in the Bhagavad-gita all that is contained in other scriptures, but the reader will also find things which are not to be found elsewhere. That is the specific standard of the Gita. It is the perfect theistic science because it is directly spoken by the Supreme Personality of Godhead, Lord Sri Krsna. The topics discussed by Dhrtarastra and Sanjaya, as described in the Mahabharata, form the basic principle for this great philosophy. It is understood that this philosophy evolved on the Battlefield of Kuruksetra, which is a sacred place of pilgrimage from the immemorial time of the Vedic age. It was spoken by the Lord when He was present personally on this planet for the guidance of mankind. The word dharma-ksetra (a place where religious rituals are performed) is significant because, on the Battlefield of Kuruksetra, the Supreme Personality of Godhead was present on the side of Arjuna. Dhrtarastra, the father of the Kurus, was highly doubtful about the possibility of his sons\\' ultimate victory. In his doubt, he inquired from his secretary Sanjaya, \"What did my sons and the sons of Pandu do?\" He was confident that both his sons and the sons of his younger brother Pandu were assembled in that Field of Kuruksetra for a determined engagement of war. Still, his inquiry is significant. He did not want a compromise between the cousins and brothers, and he wanted to be sure of the fate of his sons on the battlefield. Because the battle was arranged to be fought at Kuruksetra, which is mentioned elsewhere in the Vedas as a place of worship--even for the denizens of heaven--Dhrtarastra became very fearful about the influence of the holy place on the outcome of the battle. He knew very well that this would influence Arjuna and the sons of Pandu favorably, because by nature they were all virtuous. Sanjaya was a student of Vyasa, and therefore, by the mercy of Vyasa, Sanjaya was able to envision the Battlefield of Kuruksetra even while he was in the room of Dhrtarastra. And so, Dhrtarastra asked him about the situation on the battlefield. Both the Pandavas and the sons of Dhrtarastra belong to the same family, but Dhrtarastra\\'s mind is disclosed herein. He deliberately claimed only his sons as Kurus, and he separated the sons of Pandu from the family heritage. One can thus understand the specific position of Dhrtarastra in his relationship with his nephews, the sons of Pandu. As in the paddy field the unnecessary plants are taken out, so it is expected from the very beginning of these topics that in the religious field of Kuruksetra where the father of religion, Sri Krsna, was present, the unwanted plants like Dhrtarastra\\'s son Duryodhana and others would be wiped out and the thoroughly religious persons, headed by Yudhisthira, would be established by the Lord. This is the significance of the words dharma-ksetre and kuru-ksetre, apart from their historical and Vedic importance.'}\n"
     ]
    }
   ],
   "source": [
    "from datasets import load_dataset\n",
    "\n",
    "# Removed split=\"train\" as it's not needed for local data_files\n",
    "dataset = load_dataset(\"serpentilec137/gita-verse-dataset\")\n",
    "print(dataset['train'][0])"
   ]
  },
  {
   "cell_type": "code",
   "execution_count": null,
   "id": "d8fc496b",
   "metadata": {},
   "outputs": [
    {
     "data": {
      "text/plain": [
       "DatasetDict({\n",
       "    train: Dataset({\n",
       "        features: ['chapter', 'verse', 'text'],\n",
       "        num_rows: 622\n",
       "    })\n",
       "})"
      ]
     },
     "execution_count": 9,
     "metadata": {},
     "output_type": "execute_result"
    }
   ],
   "source": []
  },
  {
   "cell_type": "code",
   "execution_count": null,
   "id": "96da7a6a",
   "metadata": {},
   "outputs": [],
   "source": []
  }
 ],
 "metadata": {
  "kernelspec": {
   "display_name": "llm",
   "language": "python",
   "name": "python3"
  },
  "language_info": {
   "codemirror_mode": {
    "name": "ipython",
    "version": 3
   },
   "file_extension": ".py",
   "mimetype": "text/x-python",
   "name": "python",
   "nbconvert_exporter": "python",
   "pygments_lexer": "ipython3",
   "version": "3.11.11"
  }
 },
 "nbformat": 4,
 "nbformat_minor": 5
}
