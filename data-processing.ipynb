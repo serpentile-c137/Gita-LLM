{
 "cells": [
  {
   "cell_type": "code",
   "execution_count": 7,
   "id": "693e2123",
   "metadata": {},
   "outputs": [],
   "source": [
    "import fitz\n",
    "import json"
   ]
  },
  {
   "cell_type": "code",
   "execution_count": 10,
   "id": "db88c218",
   "metadata": {},
   "outputs": [],
   "source": [
    "pdf_path = \"data/Bhagavad-gita.pdf\"\n",
    "doc = fitz.open(pdf_path)\n",
    "\n",
    "# Extract text from page 30 onwards (index starts at 0)\n",
    "start_page = 0\n",
    "text_data = \"\"\n",
    "\n",
    "for page_num in range(start_page, len(doc)):\n",
    "    page = doc.load_page(page_num)\n",
    "    text_data += page.get_text()\n",
    "\n",
    "# Optional: Save to a text file\n",
    "with open(\"gita_text.txt\", \"w\", encoding=\"utf-8\") as f:\n",
    "    f.write(text_data)"
   ]
  },
  {
   "cell_type": "code",
   "execution_count": 11,
   "id": "e2ac3961",
   "metadata": {},
   "outputs": [
    {
     "data": {
      "text/plain": [
       "1536303"
      ]
     },
     "execution_count": 11,
     "metadata": {},
     "output_type": "execute_result"
    }
   ],
   "source": [
    "len(text_data)"
   ]
  },
  {
   "cell_type": "code",
   "execution_count": 12,
   "id": "2de89906",
   "metadata": {},
   "outputs": [],
   "source": [
    "# Split text into paragraphs\n",
    "paragraphs = text_data.split(\"\\n\\n\")\n",
    "\n",
    "dataset = []\n",
    "for i, para in enumerate(paragraphs):\n",
    "    if para.strip():\n",
    "        dataset.append({\"prompt\": f\"Context:\\n{para}\\n\\n### Response:\", \"completion\": \" <insert expected output or leave blank>\"})\n",
    "\n",
    "# Save as JSONL\n",
    "with open(\"gita_dataset.jsonl\", \"w\", encoding=\"utf-8\") as f:\n",
    "    for item in dataset:\n",
    "        f.write(json.dumps(item, ensure_ascii=False) + \"\\n\")\n"
   ]
  },
  {
   "cell_type": "code",
   "execution_count": 13,
   "id": "4da586d6",
   "metadata": {},
   "outputs": [
    {
     "name": "stdout",
     "output_type": "stream",
     "text": [
      "Dataset saved to gita_dataset.jsonl with 622 verse entries.\n"
     ]
    }
   ],
   "source": [
    "import re\n",
    "import json\n",
    "\n",
    "def parse_gita_text(file_path):\n",
    "    dataset = []\n",
    "    current_chapter = None\n",
    "    current_verse = None\n",
    "    buffer = []\n",
    "\n",
    "    with open(file_path, 'r', encoding='utf-8') as f:\n",
    "        for line in f:\n",
    "            stripped = line.strip()\n",
    "\n",
    "            # Start new chapter\n",
    "            chapter_match = re.match(r'^Chapter\\s+(\\d+)', stripped, re.IGNORECASE)\n",
    "            if chapter_match:\n",
    "                if buffer and current_chapter is not None and current_verse is not None:\n",
    "                    dataset.append({\n",
    "                        \"chapter\": current_chapter,\n",
    "                        \"verse\": current_verse,\n",
    "                        \"text\": \" \".join(buffer).strip()\n",
    "                    })\n",
    "                current_chapter = chapter_match.group(1)\n",
    "                current_verse = None\n",
    "                buffer = []\n",
    "                continue\n",
    "\n",
    "            # Start new verse\n",
    "            verse_match = re.match(r'^TEXT\\s+(\\d+)', stripped)\n",
    "            if verse_match:\n",
    "                if buffer and current_chapter is not None and current_verse is not None:\n",
    "                    dataset.append({\n",
    "                        \"chapter\": current_chapter,\n",
    "                        \"verse\": current_verse,\n",
    "                        \"text\": \" \".join(buffer).strip()\n",
    "                    })\n",
    "                current_verse = verse_match.group(1)\n",
    "                buffer = []\n",
    "                continue\n",
    "\n",
    "            # Accumulate verse content\n",
    "            if current_chapter and current_verse:\n",
    "                buffer.append(stripped)\n",
    "\n",
    "    # Add final verse\n",
    "    if buffer and current_chapter is not None and current_verse is not None:\n",
    "        dataset.append({\n",
    "            \"chapter\": current_chapter,\n",
    "            \"verse\": current_verse,\n",
    "            \"text\": \" \".join(buffer).strip()\n",
    "        })\n",
    "\n",
    "    return dataset\n",
    "\n",
    "# Input and output\n",
    "input_path = 'gita_text.txt'\n",
    "output_path = 'gita_dataset.jsonl'\n",
    "\n",
    "# Parse and write to JSONL\n",
    "data = parse_gita_text(input_path)\n",
    "with open(output_path, 'w', encoding='utf-8') as out_file:\n",
    "    for item in data:\n",
    "        out_file.write(json.dumps(item, ensure_ascii=False) + '\\n')\n",
    "\n",
    "print(f\"Dataset saved to {output_path} with {len(data)} verse entries.\")\n"
   ]
  },
  {
   "cell_type": "code",
   "execution_count": null,
   "id": "01b6f3de",
   "metadata": {},
   "outputs": [],
   "source": []
  }
 ],
 "metadata": {
  "kernelspec": {
   "display_name": "llm",
   "language": "python",
   "name": "python3"
  },
  "language_info": {
   "codemirror_mode": {
    "name": "ipython",
    "version": 3
   },
   "file_extension": ".py",
   "mimetype": "text/x-python",
   "name": "python",
   "nbconvert_exporter": "python",
   "pygments_lexer": "ipython3",
   "version": "3.11.11"
  }
 },
 "nbformat": 4,
 "nbformat_minor": 5
}
